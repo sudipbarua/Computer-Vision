{
 "cells": [
  {
   "cell_type": "markdown",
   "metadata": {},
   "source": [
    "# Euclidean and affine transformations\n",
    "Please install the packages numpy and opencv.  \n",
    "Run a CMD (Click on Windows Symbol and search for CMD).  \n",
    "Enter: `pip install --user matplotlib opencv-python`"
   ]
  },
  {
   "cell_type": "markdown",
   "metadata": {},
   "source": [
    "## Preparations"
   ]
  },
  {
   "cell_type": "markdown",
   "metadata": {},
   "source": [
    "Make matplotlib and numpy available ..."
   ]
  },
  {
   "cell_type": "code",
   "execution_count": 1,
   "metadata": {},
   "outputs": [],
   "source": [
    "import matplotlib.pyplot as plt\n",
    "import numpy as np"
   ]
  },
  {
   "cell_type": "markdown",
   "metadata": {},
   "source": [
    "Print floating point numbers with a reduced precision:"
   ]
  },
  {
   "cell_type": "code",
   "execution_count": 2,
   "metadata": {},
   "outputs": [],
   "source": [
    "np.set_printoptions(precision=2)"
   ]
  },
  {
   "cell_type": "markdown",
   "metadata": {},
   "source": [
    "Use the following 2-by-12 matrix to draw a simple house:"
   ]
  },
  {
   "cell_type": "code",
   "execution_count": 3,
   "metadata": {},
   "outputs": [
    {
     "name": "stdout",
     "output_type": "stream",
     "text": [
      "X is:\n",
      "[[-6. -6. -7.  0.  7.  6.  6. -3. -3.  0.  0. -6.]\n",
      " [-7.  2.  1.  8.  1.  2. -7. -7. -2. -2. -7. -7.]]\n"
     ]
    }
   ],
   "source": [
    "X = np.array([[-6, -6, -7, 0, 7, 6,  6, -3, -3,  0,  0, -6],\n",
    "              [-7,  2,  1, 8, 1, 2, -7, -7, -2, -2, -7, -7]], dtype=np.float)\n",
    "\n",
    "no_rows, no_cols = X.shape[0], X.shape[1]\n",
    "print(\"X is:\"); print(X)"
   ]
  },
  {
   "cell_type": "markdown",
   "metadata": {},
   "source": [
    "Make points homogeneous:"
   ]
  },
  {
   "cell_type": "code",
   "execution_count": 4,
   "metadata": {},
   "outputs": [
    {
     "name": "stdout",
     "output_type": "stream",
     "text": [
      "X_h is:\n",
      "[[-6. -6. -7.  0.  7.  6.  6. -3. -3.  0.  0. -6.]\n",
      " [-7.  2.  1.  8.  1.  2. -7. -7. -2. -2. -7. -7.]\n",
      " [ 1.  1.  1.  1.  1.  1.  1.  1.  1.  1.  1.  1.]]\n"
     ]
    }
   ],
   "source": [
    "one_row_shape = (1, no_cols) # only one row with ones!\n",
    "one_row = np.ones(one_row_shape, dtype=np.float)\n",
    "X_h = np.concatenate((X, one_row), axis=0) # axis 0 means downwards\n",
    "print(\"X_h is:\"); print(X_h)"
   ]
  },
  {
   "cell_type": "markdown",
   "metadata": {},
   "source": [
    "## Scaling"
   ]
  },
  {
   "cell_type": "markdown",
   "metadata": {},
   "source": [
    "Build up and apply the homography:"
   ]
  },
  {
   "cell_type": "code",
   "execution_count": 5,
   "metadata": {},
   "outputs": [],
   "source": [
    "H_s = np.array([[1/2, 0, 0],\n",
    "                [  0, 1, 0],\n",
    "                [  0, 0, 1]], dtype=float)\n",
    "X_s = H_s.dot(X_h) # apply homography"
   ]
  },
  {
   "cell_type": "markdown",
   "metadata": {},
   "source": [
    "Make points inhomogeneous again:"
   ]
  },
  {
   "cell_type": "code",
   "execution_count": 7,
   "metadata": {},
   "outputs": [
    {
     "name": "stdout",
     "output_type": "stream",
     "text": [
      "X_si is:\n",
      "[[-3.  -3.  -3.5  0.   3.5  3.   3.  -1.5 -1.5  0.   0.  -3. ]\n",
      " [-7.   2.   1.   8.   1.   2.  -7.  -7.  -2.  -2.  -7.  -7. ]]\n"
     ]
    }
   ],
   "source": [
    "X_si = X_s[0:2, :] / X_s[2, :] # make inhom. for plotting\n",
    "print(\"X_si is:\"); print(X_si)"
   ]
  },
  {
   "cell_type": "markdown",
   "metadata": {},
   "source": [
    "Plot house and scaled house:"
   ]
  },
  {
   "cell_type": "code",
   "execution_count": 8,
   "metadata": {},
   "outputs": [
    {
     "data": {
      "image/png": "[encoded data removed]",
      "text/plain": [
       "<Figure size 432x288 with 1 Axes>"
      ]
     },
     "metadata": {
      "needs_background": "light"
     },
     "output_type": "display_data"
    }
   ],
   "source": [
    "window_name = \"A house\"\n",
    "plt.title(window_name)\n",
    "plt.plot(X[0, :], X[1, :], label=\"default\") # house\n",
    "plt.plot(X_si[0, :], X_si[1, :], label=\"scaled\") # scaled house\n",
    "plt.gca().set_aspect('equal', adjustable='box') # equal scale for x and y axis\n",
    "plt.legend(loc=\"upper left\")\n",
    "plt.show(window_name)"
   ]
  },
  {
   "cell_type": "markdown",
   "metadata": {},
   "source": [
    "## Rotating"
   ]
  },
  {
   "cell_type": "markdown",
   "metadata": {},
   "source": [
    "Build up homography and apply homography:"
   ]
  },
  {
   "cell_type": "code",
   "execution_count": 19,
   "metadata": {},
   "outputs": [],
   "source": [
    "alpha_deg = -30\n",
    "alpha = alpha_deg * np.pi / 180.0 # degrees to radians\n",
    "# positive alpha -> rotation counter clockwise\n",
    "c = np.cos(alpha)\n",
    "s = np.sin(alpha)\n",
    "H_r = np.array([[c, -s, 0],\n",
    "                [s,  c, 0],\n",
    "                [0,  0, 1]], dtype=float)\n",
    "X_r = H_r.dot(X_h) # apply homography"
   ]
  },
  {
   "cell_type": "markdown",
   "metadata": {},
   "source": [
    "Make points inhomogeneous again:"
   ]
  },
  {
   "cell_type": "code",
   "execution_count": 20,
   "metadata": {},
   "outputs": [
    {
     "name": "stdout",
     "output_type": "stream",
     "text": [
      "X_ri is:\n",
      "[[-8.7  -4.2  -5.56  4.    6.56  6.2   1.7  -6.1  -3.6  -1.   -3.5  -8.7 ]\n",
      " [-3.06  4.73  4.37  6.93 -2.63 -1.27 -9.06 -4.56 -0.23 -1.73 -6.06 -3.06]]\n"
     ]
    }
   ],
   "source": [
    "X_ri = X_r[0:2, :] / X_r[2, :]\n",
    "print(\"X_ri is:\"); print(X_ri)"
   ]
  },
  {
   "cell_type": "markdown",
   "metadata": {},
   "source": [
    "Plot house and rotated house:"
   ]
  },
  {
   "cell_type": "code",
   "execution_count": 21,
   "metadata": {},
   "outputs": [
    {
     "data": {
      "image/png": "[encoded data removed]",
      "text/plain": [
       "<Figure size 432x288 with 1 Axes>"
      ]
     },
     "metadata": {
      "needs_background": "light"
     },
     "output_type": "display_data"
    }
   ],
   "source": [
    "plt.title(window_name)\n",
    "plt.plot(X[0, :], X[1, :], label=\"default\") # house\n",
    "plt.plot(X_ri[0, :], X_ri[1, :], label=\"rotated\") # rotated house\n",
    "plt.gca().set_aspect('equal', adjustable='box') # equal scale for x and y axis\n",
    "plt.legend(loc=\"upper left\")\n",
    "plt.show(window_name)"
   ]
  },
  {
   "cell_type": "markdown",
   "metadata": {},
   "source": [
    "## Translating"
   ]
  },
  {
   "cell_type": "markdown",
   "metadata": {},
   "source": [
    "Build up homography and apply homography:"
   ]
  },
  {
   "cell_type": "code",
   "execution_count": 12,
   "metadata": {},
   "outputs": [],
   "source": [
    "t_x = 2\n",
    "t_y = -3\n",
    "H_t = np.array([[1, 0, t_x],\n",
    "                [0, 1, t_y],\n",
    "                [0, 0,   1]], dtype=np.float)\n",
    "X_t = H_t.dot(X_h) # apply homography"
   ]
  },
  {
   "cell_type": "markdown",
   "metadata": {},
   "source": [
    "Make points inhomogeneous again:"
   ]
  },
  {
   "cell_type": "code",
   "execution_count": 13,
   "metadata": {},
   "outputs": [
    {
     "name": "stdout",
     "output_type": "stream",
     "text": [
      "X_ti is:\n",
      "[[ -4.  -4.  -5.   2.   9.   8.   8.  -1.  -1.   2.   2.  -4.]\n",
      " [-10.  -1.  -2.   5.  -2.  -1. -10. -10.  -5.  -5. -10. -10.]]\n"
     ]
    }
   ],
   "source": [
    "X_ti = X_t[0:2, :] / X_t[2, :]\n",
    "print(\"X_ti is:\"); print(X_ti)"
   ]
  },
  {
   "cell_type": "markdown",
   "metadata": {},
   "source": [
    "Plot house and translated house:"
   ]
  },
  {
   "cell_type": "code",
   "execution_count": 14,
   "metadata": {},
   "outputs": [
    {
     "data": {
      "image/png": "[encoded data removed]",
      "text/plain": [
       "<Figure size 432x288 with 1 Axes>"
      ]
     },
     "metadata": {
      "needs_background": "light"
     },
     "output_type": "display_data"
    }
   ],
   "source": [
    "plt.title(window_name)\n",
    "plt.plot(X[0, :], X[1, :], label=\"default\") # house\n",
    "plt.plot(X_ti[0, :], X_ti[1, :], label=\"translated\") # translated house\n",
    "plt.gca().set_aspect('equal', adjustable='box') # equal scale for x and y axis\n",
    "plt.legend(loc=\"upper left\")\n",
    "plt.show(window_name)"
   ]
  },
  {
   "cell_type": "markdown",
   "metadata": {},
   "source": [
    "## Mirroring"
   ]
  },
  {
   "cell_type": "markdown",
   "metadata": {},
   "source": [
    "Build up homography and apply homography:\n"
   ]
  },
  {
   "cell_type": "code",
   "execution_count": 16,
   "metadata": {},
   "outputs": [],
   "source": [
    "H_m = np.array([[1,  0, 0],\n",
    "                [0, -1, 0],\n",
    "                [0,  0, 1]], dtype=np.float)\n",
    "X_m = H_m.dot(X_h)  # apply homography"
   ]
  },
  {
   "cell_type": "markdown",
   "metadata": {},
   "source": [
    "Make points inhomogeneous again:\n"
   ]
  },
  {
   "cell_type": "code",
   "execution_count": 17,
   "metadata": {},
   "outputs": [],
   "source": [
    "X_mi = X_m[0:2, :] / X_m[2, :]"
   ]
  },
  {
   "cell_type": "markdown",
   "metadata": {},
   "source": [
    "Plot house and mirrored house:"
   ]
  },
  {
   "cell_type": "code",
   "execution_count": 18,
   "metadata": {},
   "outputs": [
    {
     "data": {
      "image/png": "[encoded data removed]",
      "text/plain": [
       "<Figure size 432x288 with 1 Axes>"
      ]
     },
     "metadata": {
      "needs_background": "light"
     },
     "output_type": "display_data"
    }
   ],
   "source": [
    "plt.title(window_name)\n",
    "plt.plot(X[0, :], X[1, :], label=\"default\") # house\n",
    "plt.plot(X_mi[0, :], X_mi[1, :], label=\"mirrored\") # mirrored house\n",
    "plt.gca().set_aspect('equal', adjustable='box') # equal scale for x and y axis\n",
    "plt.legend(loc=\"upper left\")\n",
    "plt.show(window_name)"
   ]
  },
  {
   "cell_type": "code",
   "execution_count": null,
   "metadata": {},
   "outputs": [],
   "source": []
  }
 ],
 "metadata": {
  "kernelspec": {
   "display_name": "Python 3",
   "language": "python",
   "name": "python3"
  },
  "language_info": {
   "codemirror_mode": {
    "name": "ipython",
    "version": 3
   },
   "file_extension": ".py",
   "mimetype": "text/x-python",
   "name": "python",
   "nbconvert_exporter": "python",
   "pygments_lexer": "ipython3",
   "version": "3.7.4"
  }
 },
 "nbformat": 4,
 "nbformat_minor": 4
}
