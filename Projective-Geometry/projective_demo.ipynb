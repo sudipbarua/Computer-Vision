{
 "cells": [
  {
   "cell_type": "markdown",
   "metadata": {},
   "source": [
    "# Projective transformations"
   ]
  },
  {
   "cell_type": "markdown",
   "metadata": {},
   "source": [
    "Please install the packages numpy and matplotlib.  \n",
    "Run a CMD (Click on Windows Symbol and search for CMD).  \n",
    "Enter: `pip install --user numpy matplotlib`"
   ]
  },
  {
   "cell_type": "markdown",
   "metadata": {},
   "source": [
    "## Preparations"
   ]
  },
  {
   "cell_type": "markdown",
   "metadata": {},
   "source": [
    "Make matplotlib and numpy available ..."
   ]
  },
  {
   "cell_type": "code",
   "execution_count": 1,
   "metadata": {},
   "outputs": [],
   "source": [
    "import matplotlib.pyplot as plt\n",
    "import numpy as np"
   ]
  },
  {
   "cell_type": "markdown",
   "metadata": {},
   "source": [
    "Print floating point numbers with a reduced precision:"
   ]
  },
  {
   "cell_type": "code",
   "execution_count": 2,
   "metadata": {},
   "outputs": [],
   "source": [
    "np.set_printoptions(precision=2)"
   ]
  },
  {
   "cell_type": "markdown",
   "metadata": {},
   "source": [
    "Use the following 2-by-12 matrix to draw a simple house:"
   ]
  },
  {
   "cell_type": "code",
   "execution_count": 3,
   "metadata": {},
   "outputs": [
    {
     "name": "stdout",
     "output_type": "stream",
     "text": [
      "X is:\n",
      "[[-6. -6. -7.  0.  7.  6.  6. -3. -3.  0.  0. -6.]\n",
      " [-7.  2.  1.  8.  1.  2. -7. -7. -2. -2. -7. -7.]]\n"
     ]
    }
   ],
   "source": [
    "X = np.array([[-6, -6, -7, 0, 7, 6,  6, -3, -3,  0,  0, -6],\n",
    "              [-7,  2,  1, 8, 1, 2, -7, -7, -2, -2, -7, -7]], dtype=np.float)\n",
    "\n",
    "no_rows, no_cols = X.shape[0], X.shape[1]\n",
    "print(\"X is:\"); print(X)"
   ]
  },
  {
   "cell_type": "markdown",
   "metadata": {},
   "source": [
    "Make points homogeneous:"
   ]
  },
  {
   "cell_type": "code",
   "execution_count": 4,
   "metadata": {},
   "outputs": [
    {
     "name": "stdout",
     "output_type": "stream",
     "text": [
      "X_h is:\n",
      "[[-6. -6. -7.  0.  7.  6.  6. -3. -3.  0.  0. -6.]\n",
      " [-7.  2.  1.  8.  1.  2. -7. -7. -2. -2. -7. -7.]\n",
      " [ 1.  1.  1.  1.  1.  1.  1.  1.  1.  1.  1.  1.]]\n"
     ]
    }
   ],
   "source": [
    "one_row_shape = (1, no_cols) # only one row with ones!\n",
    "one_row = np.ones(one_row_shape, dtype=np.float)\n",
    "X_h = np.concatenate((X, one_row), axis=0) # axis 0 means downwards\n",
    "print(\"X_h is:\"); print(X_h)"
   ]
  },
  {
   "cell_type": "markdown",
   "metadata": {},
   "source": [
    "## Projectivity 1"
   ]
  },
  {
   "cell_type": "markdown",
   "metadata": {},
   "source": [
    "Build up and apply the homography:"
   ]
  },
  {
   "cell_type": "code",
   "execution_count": 5,
   "metadata": {},
   "outputs": [],
   "source": [
    "H_1 = np.array([[   1, 0, 0],\n",
    "                [   0, 1, 0],\n",
    "                [0.04, 0, 1]], dtype=float)\n",
    "X_1 = H_1.dot(X_h) # apply homography"
   ]
  },
  {
   "cell_type": "markdown",
   "metadata": {},
   "source": [
    "Make points inhomogeneous again:"
   ]
  },
  {
   "cell_type": "code",
   "execution_count": 6,
   "metadata": {},
   "outputs": [
    {
     "name": "stdout",
     "output_type": "stream",
     "text": [
      "X_1i is:\n",
      "[[-7.89 -7.89 -9.72  0.    5.47  4.84  4.84 -3.41 -3.41  0.    0.   -7.89]\n",
      " [-9.21  2.63  1.39  8.    0.78  1.61 -5.65 -7.95 -2.27 -2.   -7.   -9.21]]\n"
     ]
    }
   ],
   "source": [
    "X_1i = X_1[0:2, :] / X_1[2, :] # make inhom. for plotting\n",
    "print(\"X_1i is:\"); print(X_1i)"
   ]
  },
  {
   "cell_type": "markdown",
   "metadata": {},
   "source": [
    "Plot house and scaled house:"
   ]
  },
  {
   "cell_type": "code",
   "execution_count": 7,
   "metadata": {},
   "outputs": [
    {
     "data": {
      "image/png": "[encoded data removed]",
      "text/plain": [
       "<Figure size 432x288 with 1 Axes>"
      ]
     },
     "metadata": {
      "needs_background": "light"
     },
     "output_type": "display_data"
    }
   ],
   "source": [
    "window_name = \"A house\"\n",
    "plt.title(window_name)\n",
    "plt.plot(X[0, :], X[1, :], label=\"default\") # house\n",
    "plt.plot(X_1i[0, :], X_1i[1, :], label=\"proj 1\") # projectivity\n",
    "plt.gca().set_aspect('equal', adjustable='box') # equal scale for x and y axis\n",
    "plt.legend(loc=\"upper left\")\n",
    "plt.show(window_name)"
   ]
  },
  {
   "cell_type": "markdown",
   "metadata": {},
   "source": [
    "## Projectivity 2"
   ]
  },
  {
   "cell_type": "markdown",
   "metadata": {},
   "source": [
    "Build up homography and apply homography:"
   ]
  },
  {
   "cell_type": "code",
   "execution_count": 8,
   "metadata": {},
   "outputs": [],
   "source": [
    "H_2 = np.array([[   1,    0, 0],\n",
    "                [   0,    1, 0],\n",
    "                [0.04, 0.04, 1]], dtype=float)\n",
    "X_2 = H_2.dot(X_h) # apply homography"
   ]
  },
  {
   "cell_type": "markdown",
   "metadata": {},
   "source": [
    "Make points inhomogeneous again:"
   ]
  },
  {
   "cell_type": "code",
   "execution_count": 9,
   "metadata": {},
   "outputs": [
    {
     "name": "stdout",
     "output_type": "stream",
     "text": [
      "X_2i is:\n",
      "[[-12.5   -7.14  -9.21   0.     5.3    4.55   6.25  -5.    -3.75   0.\n",
      "    0.   -12.5 ]\n",
      " [-14.58   2.38   1.32   6.06   0.76   1.52  -7.29 -11.67  -2.5   -2.17\n",
      "   -9.72 -14.58]]\n"
     ]
    }
   ],
   "source": [
    "X_2i = X_2[0:2, :] / X_2[2, :]\n",
    "print(\"X_2i is:\"); print(X_2i)"
   ]
  },
  {
   "cell_type": "markdown",
   "metadata": {},
   "source": [
    "Plot house and rotated house:"
   ]
  },
  {
   "cell_type": "code",
   "execution_count": 10,
   "metadata": {},
   "outputs": [
    {
     "data": {
      "image/png": "[encoded data removed]",
      "text/plain": [
       "<Figure size 432x288 with 1 Axes>"
      ]
     },
     "metadata": {
      "needs_background": "light"
     },
     "output_type": "display_data"
    }
   ],
   "source": [
    "plt.title(window_name)\n",
    "plt.plot(X[0, :], X[1, :], label=\"default\") # house\n",
    "plt.plot(X_2i[0, :], X_2i[1, :], label=\"proj 2\") # rotated house\n",
    "plt.gca().set_aspect('equal', adjustable='box') # equal scale for x and y axis\n",
    "plt.legend(loc=\"upper left\")\n",
    "plt.show(window_name)"
   ]
  },
  {
   "cell_type": "code",
   "execution_count": null,
   "metadata": {},
   "outputs": [],
   "source": []
  }
 ],
 "metadata": {
  "kernelspec": {
   "display_name": "Python 3",
   "language": "python",
   "name": "python3"
  },
  "language_info": {
   "codemirror_mode": {
    "name": "ipython",
    "version": 3
   },
   "file_extension": ".py",
   "mimetype": "text/x-python",
   "name": "python",
   "nbconvert_exporter": "python",
   "pygments_lexer": "ipython3",
   "version": "3.7.4"
  }
 },
 "nbformat": 4,
 "nbformat_minor": 4
}
