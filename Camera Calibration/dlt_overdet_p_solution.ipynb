{
 "cells": [
  {
   "cell_type": "markdown",
   "metadata": {},
   "source": [
    "# Reconstruction of the camera matrix P using DLT\n",
    "\n",
    "We define a house in 3D, make an image in 2D and try to reconstruct the matrix $\\bf{P}$ that results in:\n",
    "\n",
    "$\\bf{X}_\\text{img} = \\bf{P} \\cdot \\bf{X}_\\text{wrld}$"
   ]
  },
  {
   "cell_type": "code",
   "execution_count": 1,
   "metadata": {},
   "outputs": [],
   "source": [
    "# Just a bunch of imports...\n",
    "import matplotlib.pyplot as plt\n",
    "from mpl_toolkits.mplot3d import Axes3D\n",
    "import numpy as np\n",
    "from scipy.linalg import null_space\n",
    "\n",
    "# Define our 3D house\n",
    "X_wrld = np.array([\n",
    "    [ -1.0,  1.0,   1.0,  -1.0,  -1.0,   1.0,   1.0,  -1.0,   0.0,   3.0,   3.0],\n",
    "    [ -2.5, -2.5,  -0.5,  -0.5,  -2.5,  -2.5,  -0.5,  -0.5,  -1.5,  -0.5,  -2.5],\n",
    "    [  0.0,  0.0,   0.0,   0.0,   1.0,   1.0,   1.0,   1.0,   2.0,   0.0,   0.0],\n",
    "    [  1.0,  1.0,   1.0,   1.0,   1.0,   1.0,   1.0,   1.0,   1.0,   1.0,   1.0]\n",
    "])\n",
    "\n",
    "no_pts = X_wrld.shape[1]"
   ]
  },
  {
   "cell_type": "markdown",
   "metadata": {},
   "source": [
    "## Definition of Intrinsic Parameters"
   ]
  },
  {
   "cell_type": "code",
   "execution_count": 2,
   "metadata": {},
   "outputs": [],
   "source": [
    "width  = 640\n",
    "height = 480\n",
    "f_phys = 700.0e-3 # 7mm\n",
    "p_x = 250.0e-5 # 5um\n",
    "p_y = 250.0e-5 # 5um\n",
    "c_x = (width - 1)  / 2\n",
    "c_y = (height - 1) / 2\n",
    "\n",
    "# express focal length(s) in pixel units\n",
    "f_x = f_phys / p_x\n",
    "f_y = f_phys / p_y\n",
    "\n",
    "# build up K (neglect skew)\n",
    "K = np.array([\n",
    "    [f_x,   0, c_x],\n",
    "    [  0, f_y, c_y],\n",
    "    [  0,   0,   1]\n",
    "])"
   ]
  },
  {
   "cell_type": "markdown",
   "metadata": {},
   "source": [
    "## Definition of Extrinsic Parameters"
   ]
  },
  {
   "cell_type": "code",
   "execution_count": 3,
   "metadata": {},
   "outputs": [],
   "source": [
    "#camera center expressed in WCS\n",
    "C = np.array([[2.5,  0.1, 2.5]]).T\n",
    "\n",
    "# R precalculated, simply use values... ;)\n",
    "R = np.array([\n",
    "    [   -0.7770,    0.6286,    0.0339],\n",
    "    [    0.3719,    0.5018,   -0.7809],\n",
    "    [   -0.5079,   -0.5942,   -0.6237]\n",
    "])\n",
    "\n",
    "# translation T not necessary in this example..."
   ]
  },
  {
   "cell_type": "markdown",
   "metadata": {},
   "source": [
    "## Image processing"
   ]
  },
  {
   "cell_type": "code",
   "execution_count": 4,
   "metadata": {},
   "outputs": [],
   "source": [
    "# composition of the camera matrix P\n",
    "M = K.dot(R)\n",
    "P = np.hstack((M, -M.dot(C)))\n",
    "\n",
    "# Shoot a nice picture...\n",
    "X_img = P.dot(X_wrld)\n",
    "\n",
    "# introduce some noise in inhomogeneous space\n",
    "X_img_inhom = X_img[0:2, :] / X_img[2:3, :]\n",
    "stddev = 0.1\n",
    "X_img_noise = np.random.normal(scale=stddev, size=X_img_inhom.shape)\n",
    "X_img_inhom_noisy = X_img_inhom + X_img_noise\n",
    "X_img_noisy = np.vstack((X_img_inhom_noisy, np.ones((1, no_pts), dtype=np.float)))"
   ]
  },
  {
   "cell_type": "markdown",
   "metadata": {},
   "source": [
    "## Reconstruction of P"
   ]
  },
  {
   "cell_type": "code",
   "execution_count": 5,
   "metadata": {},
   "outputs": [],
   "source": [
    "# build up DLT system matrix\n",
    "top_rows_cols_0to3  =  np.zeros((no_pts, 4), dtype=np.float)\n",
    "top_rows_cols_4to7  = -X_img_noisy[2:3, :].T * X_wrld.T\n",
    "top_rows_cols_8to11 =  X_img_noisy[1:2, :].T * X_wrld.T\n",
    "\n",
    "bottom_rows_cols_0to3  =  X_img_noisy[2:3, :].T * X_wrld.T\n",
    "bottom_rows_cols_4to7  =  np.zeros((no_pts, 4), dtype=np.float)\n",
    "bottom_rows_cols_8to11 = -X_img_noisy[0:1, :].T * X_wrld.T\n",
    "\n",
    "A_upper_part = np.hstack((top_rows_cols_0to3, top_rows_cols_4to7, top_rows_cols_8to11))\n",
    "A_lower_part = np.hstack((bottom_rows_cols_0to3, bottom_rows_cols_4to7, bottom_rows_cols_8to11))\n",
    "A            = np.vstack((A_upper_part, A_lower_part))\n",
    "\n",
    "# we have an overdetermined noisy system -> SVD!\n",
    "U, S, VT = np.linalg.svd(A)\n",
    "r = np.linalg.matrix_rank(A)\n",
    "p_estim = VT[r-1, :]\n",
    "P_estim = p_estim.reshape((3, 4))\n",
    "\n",
    "\n"
   ]
  },
  {
   "cell_type": "markdown",
   "metadata": {},
   "source": [
    "## Comparision"
   ]
  },
  {
   "cell_type": "code",
   "execution_count": 6,
   "metadata": {},
   "outputs": [
    {
     "name": "stdout",
     "output_type": "stream",
     "text": [
      "P original:\n",
      "[[-1.31502361e+02 -4.79116610e+00 -6.57037931e+01  4.93494502e+02]\n",
      " [-6.06215509e+00 -6.25566919e-01 -1.27415040e+02  3.33755545e+02]\n",
      " [-1.75840079e-01 -2.05718005e-01 -2.15931201e-01  1.00000000e+00]]\n",
      "P estimated:\n",
      "[[-1.31509524e+02 -4.91121437e+00 -6.59471419e+01  4.93464004e+02]\n",
      " [-6.03375547e+00 -7.10339803e-01 -1.27457327e+02  3.33734421e+02]\n",
      " [-1.75810713e-01 -2.06013694e-01 -2.16467349e-01  1.00000000e+00]]\n"
     ]
    }
   ],
   "source": [
    "\n",
    "# better for comparison: normalize s.th. p34 is 1\n",
    "P = P / P[-1, -1]\n",
    "P_estim = P_estim / P_estim[-1, -1]\n",
    "\n",
    "print(\"P original:\")\n",
    "print(P)\n",
    "print(\"P estimated:\")\n",
    "print(P_estim)"
   ]
  },
  {
   "cell_type": "code",
   "execution_count": 7,
   "metadata": {},
   "outputs": [
    {
     "name": "stdout",
     "output_type": "stream",
     "text": [
      "MAE:\n",
      "0.048208553053136864\n"
     ]
    }
   ],
   "source": [
    "# Mean absolute reconstruction error:\n",
    "P_error = np.mean(np.abs(P - P_estim))\n",
    "print(\"MAE:\")\n",
    "print(P_error)"
   ]
  },
  {
   "cell_type": "code",
   "execution_count": null,
   "metadata": {},
   "outputs": [],
   "source": []
  }
 ],
 "metadata": {
  "kernelspec": {
   "display_name": "Python 3",
   "language": "python",
   "name": "python3"
  },
  "language_info": {
   "codemirror_mode": {
    "name": "ipython",
    "version": 3
   },
   "file_extension": ".py",
   "mimetype": "text/x-python",
   "name": "python",
   "nbconvert_exporter": "python",
   "pygments_lexer": "ipython3",
   "version": "3.7.4"
  }
 },
 "nbformat": 4,
 "nbformat_minor": 4
}
