{
 "cells": [
  {
   "cell_type": "markdown",
   "metadata": {},
   "source": [
    "# Normalization of Points\n",
    "\n",
    "As mentioned in Chapter 6 *Camera Calibration*, data normalization can improve estimation results.\n",
    "In particular, this concerns the normalization before retrieving the projection matrix $\\mathbf{P}$.\n",
    "In this example, we script a small Python method that performs the normalization.\n",
    "\n",
    "## Methods in Python\n",
    "Let's first consider what methods are in Python, why they are important and how we define them...\n",
    "A self-defined method is actually the same as the methods provided by the Python libraries (e.g. Numpy).\n",
    "They have a name, they have input arguments and most of them have also output arguments.\n",
    "They are comparable to math functions but they can also operate on non-math datatyes like strings (text).\n",
    "  \n",
    "For instance, `len` simply counts the number of elements (here: of a string) and `print` prints a string onto the console."
   ]
  },
  {
   "cell_type": "code",
   "execution_count": null,
   "metadata": {},
   "outputs": [],
   "source": [
    "text = \"computer vision\"\n",
    "a = len(text)\n",
    "print(\"The number of characters in '\" + text + \"' is \" + str(a) + \".\")"
   ]
  },
  {
   "cell_type": "markdown",
   "metadata": {},
   "source": [
    "The definition of a method is always located before the first usage of this method. Now, let's define a very simply method that rounds a floating point number.\n",
    "  \n",
    "A method definition starts with the keyword `def` followed by the method name `my_own_round` and then in brackets the names of the input argument(s) `my_float`. After the brakets, there's always a colon.\n",
    "The so-called body that consists of the instructions is indented. At the end, there is optionally a `return` statement that can return a value to the function call."
   ]
  },
  {
   "cell_type": "code",
   "execution_count": null,
   "metadata": {},
   "outputs": [],
   "source": [
    "# This is the method definition:\n",
    "def my_own_round(my_float):\n",
    "    # the decimals after the comma:\n",
    "    decimals = my_float % 1 # % is the modulo operator\n",
    "    integer_value = int(my_float) # the value before the comma\n",
    "    \n",
    "    # Let's see if we have to round up or down.\n",
    "    if decimals >= 0.5:\n",
    "        # round up\n",
    "        result = integer_value + 1\n",
    "    else:\n",
    "        # roudn down = simply take the number without decimals\n",
    "        result = integer_value\n",
    "    \n",
    "    # finally return the value of the result variable\n",
    "    return result\n",
    "\n",
    "# exemplary call:\n",
    "# I want to share 5 pokemon cards with my best friend...\n",
    "num_pokemons = 5\n",
    "num_pokemons_for_my_friend = num_pokemons / 2\n",
    "print(\"Before rounding:\", num_pokemons_for_my_friend)\n",
    "\n",
    "# Nooooo! Do not shred the cards. Let's round...\n",
    "# method call:\n",
    "num_pokemons_for_my_friend_rounded = my_own_round(num_pokemons_for_my_friend)\n",
    "print(\"After rounding:\", num_pokemons_for_my_friend_rounded)\n",
    "# That's better ;)"
   ]
  },
  {
   "cell_type": "markdown",
   "metadata": {},
   "source": [
    "The result of the method call was stored into the variable `num_pokemons_for_my_friend_rounded`."
   ]
  },
  {
   "cell_type": "markdown",
   "metadata": {},
   "source": [
    "## Back to Normalization\n",
    "Now, we want to write a method that applies the normalization transformation of **Sec. 6.2.6** (pp. 9-19)\n",
    "But first, let's define a 2D and a 3D strcuture as placeholders for world and image points..."
   ]
  },
  {
   "cell_type": "code",
   "execution_count": 1,
   "metadata": {},
   "outputs": [],
   "source": [
    "import numpy as np\n",
    "import matplotlib.pyplot as plt\n",
    "\n",
    "# a tetragon in 2D projective space:\n",
    "X_2D = np.array([\n",
    "    [7, 2.5,   1, 2.5],\n",
    "    [7, 2.5, 2.5,   1],\n",
    "    [7,   1,    1,  1]\n",
    "], dtype=np.float)\n",
    "\n",
    "# a cube in 3D projective space:\n",
    "X_3D = np.array([\n",
    "    [1, 3, 1, 3, 1, 3, 1, 3],\n",
    "    [1, 1, 3, 3, 1, 1, 3, 3],\n",
    "    [1, 1, 1, 1, 3, 3, 3, 3],\n",
    "    [1, 1, 1, 1, 1, 1, 1, 1]\n",
    "], dtype=np.float)\n",
    "\n",
    "\n",
    "# deactivate validation with validation = False\n",
    "validation = True\n",
    "debug = False\n",
    "\n",
    "# simply ignore this method:\n",
    "def validate(array, hash_val, error_msg):\n",
    "    global validation\n",
    "    if validation == False:\n",
    "        return # do not validate\n",
    "    if type(array) != np.ndarray:\n",
    "        s = hash(array)\n",
    "    else:\n",
    "        s = 0\n",
    "        for i in range(array.shape[0]):\n",
    "            for j in range(array.shape[1]):\n",
    "                s += hash(array[i, j] * 7*(i+1) + 13*(j+1))\n",
    "    \n",
    "    if debug == True:\n",
    "        print(\"hash was:\", s)\n",
    "    assert s == hash_val, error_msg"
   ]
  },
  {
   "cell_type": "markdown",
   "metadata": {},
   "source": [
    "The first method should build up the normalization homography from the scaling factor $s$ and the centroid $\\tilde{\\mathbf{L}}$:\n",
    "\n",
    "$\\mathbf{T} = \\begin{bmatrix}\n",
    "    s \\cdot \\mathbf{I}_{n\\times n} & -s \\cdot \\tilde{\\mathbf{L}} \\\\\n",
    "    \\mathbf{0}^T & 1\n",
    "\\end{bmatrix}$\n",
    "  \n",
    "whereas $\\mathbf{I}_{n\\times n}$ is an $n \\times n$ identity matrix.\n",
    "  \n",
    "We can subdivide this into an affine part:\n",
    "$\\mathbf{A} = s \\cdot \\mathbf{I}_{n\\times n}$, a translation part $\\mathbf{T}' = -s \\cdot \\tilde{\\mathbf{L}}$ and the last row $\\begin{bmatrix}\\mathbf{0}^T & 1 \\end{bmatrix}$"
   ]
  },
  {
   "cell_type": "code",
   "execution_count": 3,
   "metadata": {},
   "outputs": [
    {
     "name": "stdout",
     "output_type": "stream",
     "text": [
      "[[ 0.5  0.   0.  -0.5]\n",
      " [ 0.   0.5  0.  -2.5]\n",
      " [ 0.   0.   0.5 -1.5]\n",
      " [ 0.   0.   0.   1. ]]\n"
     ]
    }
   ],
   "source": [
    "# assume centroid is an inhomogeneous vector of size nx1\n",
    "def build_up_T(scale, centroid):\n",
    "    n = centroid.shape[0] # number of INHOMOGENEOUS dimensions # TODO: insert your code here\n",
    "    assert n > 1\n",
    "    \n",
    "    affine_part = scale * np.eye(n)\n",
    "    translation = -scale * centroid # TODO: insert your code here\n",
    "    assert affine_part.shape[0] == affine_part.shape[1], \"The shape of the affine part is not correct.\"\n",
    "    \n",
    "    # top part of size n x (n+1)\n",
    "    top_part = np.hstack((affine_part, translation)) # TODO: insert your code here\n",
    "    assert top_part.shape[0] + 1 == top_part.shape[1], \"The shape of the top part (affine & translation) is not correct.\"\n",
    "    \n",
    "    last_row_zeros = np.zeros((1, n), dtype=np.float) # TODO: insert your code here \n",
    "    assert last_row_zeros.shape[1] / last_row_zeros.shape[0] == n, \"The part below the affine part has not the correct shape.\"\n",
    "    last_row = np.hstack((last_row_zeros, np.array([[1]])))\n",
    "    \n",
    "    T = np.vstack((top_part, last_row))\n",
    "    return T\n",
    "    \n",
    "# method test\n",
    "test_scale = 0.5\n",
    "test_centroid_2d = np.array([[1, 3]], dtype=np.float).T\n",
    "test_centroid_3d = np.array([[1, 5, 3]], dtype=np.float).T\n",
    "\n",
    "T_2d = build_up_T(test_scale, test_centroid_2d)\n",
    "T_3d = build_up_T(test_scale, test_centroid_3d)\n",
    "print(T_3d)"
   ]
  },
  {
   "cell_type": "markdown",
   "metadata": {},
   "source": [
    "The next method should normalize the 2D and 3D structures."
   ]
  },
  {
   "cell_type": "code",
   "execution_count": 4,
   "metadata": {},
   "outputs": [
    {
     "name": "stdout",
     "output_type": "stream",
     "text": [
      "---------- normalizing 2D points -----------\n",
      "The centroid is now:\n",
      "[[1.75]\n",
      " [1.75]]\n",
      "The euclidean norm values for each point are: [[1.06066017 1.06066017 1.06066017 1.06066017]]\n",
      "The mean norm is: 1.0606601717798212\n",
      "---------- normalizing 3D points -----------\n",
      "The centroid is now:\n",
      "[[2.]\n",
      " [2.]\n",
      " [2.]]\n",
      "The euclidean norm values for each point are: [[1.73205081 1.73205081 1.73205081 1.73205081 1.73205081 1.73205081\n",
      "  1.73205081 1.73205081]]\n",
      "The mean norm is: 1.7320508075688772\n",
      "norms: [1.73205081 1.73205081 1.73205081 1.73205081 1.73205081 1.73205081\n",
      " 1.73205081 1.73205081]\n",
      "\n",
      "Congratulations! If you see this message printed onto the console you have done a good job!\n"
     ]
    }
   ],
   "source": [
    "def normalize(my_points):\n",
    "    n = my_points.shape[0] # Now: n is number of HOMOGENEOUS dimensions (3 for 2D and 4 for 3D) # TODO: insert your code here \n",
    "    assert n >= 3 and n <= 4\n",
    "    \n",
    "    # convert my_points to inhomogeneous space\n",
    "    my_points_inhom = my_points[:n-1, :] / my_points[n-1, :] # TODO: insert your code here \n",
    "    validate(my_points.shape[0] / n * 7, 7, \"The points are not correctly transformed to Cartesian coordiantes.\")\n",
    "\n",
    "    # find the inhomogeneous centroid of the 2D points...\n",
    "    centroid = np.mean(my_points_inhom, axis=1, keepdims=True) # TODO: insert your code here \n",
    "    print(\"The centroid is now:\")\n",
    "    print(centroid)\n",
    "    validate(centroid.shape[0] / (n-1) * 5, 5, \"Shape of centroid is wrong.\")\n",
    "    \n",
    "    # shift points to the origin s.th the centroid is at the origin\n",
    "    my_points_inhom_shifted = my_points_inhom - centroid\n",
    "\n",
    "    # calculate the Euclidean length of all vectors that point to the shifted 2D points...\n",
    "    # For learning purposes, please avoid numpy's norm function.\n",
    "    # You are allowed to use np.square and np.sqrt (square root).\n",
    "    x_square = np.square(my_points_inhom_shifted[0:1, :])\n",
    "    y_square = np.square(my_points_inhom_shifted[1:2, :]) # TODO: insert your code here\n",
    "    if n == 4:\n",
    "        z_square = np.square(my_points_inhom_shifted[2:3, :]) # TODO: insert your code here\n",
    "    else:\n",
    "        z_square = np.zeros_like(x_square, dtype=np.float)\n",
    "    euc_norm = np.sqrt(x_square + y_square + z_square) # TODO: insert your code here \n",
    "    print(\"The euclidean norm values for each point are:\", euc_norm)\n",
    "    validate(euc_norm.shape[0] * 1.2, 461168601842738689, \"Shape of euc_norm is wrong. Please use ranges instead of indices to slice the point array.\")\n",
    "    \n",
    "    # take the mean (one single number) of the Euclidean norm values \n",
    "    mean_norm = np.mean(euc_norm) # TODO: insert your code here \n",
    "    print(\"The mean norm is:\", mean_norm)\n",
    "    validate(len(str(type(mean_norm))), 23, \"The mean norm was not calculated properly. Is it one single number? No matrix...\")\n",
    "    \n",
    "    # calculate the scale factor\n",
    "    scale = np.sqrt(n-1) / mean_norm\n",
    "    validate(len(str(type(scale))), 23, \"The scale value was not calculated properly. Is it one single number? No matrix...\")\n",
    "    \n",
    "    # Now, let's use the previous method to build up the homography\n",
    "    T = build_up_T(scale, centroid)\n",
    "    \n",
    "    # Lastly, we have to apply the normalization homography:\n",
    "    my_points_normalized = T.dot(my_points)\n",
    "    return my_points_normalized\n",
    "\n",
    "# Some tests to ensure the method does what it is supposed to do...\n",
    "print(\"---------- normalizing 2D points -----------\")\n",
    "X_2D_normalized = normalize(X_2D)\n",
    "X_2D_normalized_inhom = X_2D_normalized[:2, :] / X_2D_normalized[2, :]\n",
    "m2D = np.mean(np.linalg.norm(X_2D_normalized_inhom, axis=0))\n",
    "assert np.abs(m2D - np.sqrt(2)) < 1e-10\n",
    "\n",
    "print(\"---------- normalizing 3D points -----------\")\n",
    "X_3D_normalized = normalize(X_3D)\n",
    "X_3D_normalized_inhom = X_3D_normalized[:3, :] / X_3D_normalized[3, :]\n",
    "print(\"norms:\", np.linalg.norm(X_3D_normalized_inhom, axis=0))\n",
    "m3D = np.mean(np.linalg.norm(X_3D_normalized_inhom, axis=0))\n",
    "assert np.abs(m3D - np.sqrt(3)) < 1e-10\n",
    "\n",
    "print()\n",
    "print(\"Congratulations! If you see this message printed onto the console you have done a good job!\")"
   ]
  },
  {
   "cell_type": "markdown",
   "metadata": {},
   "source": [
    "## Bonus\n",
    "This sub task is not important for exam. It's just there for feeling like a hero afterwards...  \n",
    "Task: Can you plot the 2D points with `matplotlib`? You might want to consider *Jupyter Notebooks* from other assignments..."
   ]
  },
  {
   "cell_type": "code",
   "execution_count": null,
   "metadata": {},
   "outputs": [],
   "source": [
    "import matplotlib.pyplot as plt\n",
    "from mpl_toolkits.mplot3d import Axes3D\n",
    "\n",
    "# Preprocessing\n",
    "## 2D\n",
    "### original:\n",
    "X_2D_inhom = X_2D[:2,:] / X_2D[2,:]\n",
    "X_2D_x = X_2D_inhom[0,:] # x coordinates of original 2D points\n",
    "X_2D_y = X_2D_inhom[1,:] # y coordinates of original 2D points\n",
    "\n",
    "### normalized\n",
    "X_2Dn_x = X_2D_normalized_inhom[0,:] # x coordinates of normalized 2D points\n",
    "X_2Dn_y = X_2D_normalized_inhom[1,:] # y coordinates of normalized 2D points\n",
    "\n",
    "## 3D\n",
    "### original:\n",
    "X_3D_inhom = X_3D[:3,:] / X_3D[3,:]\n",
    "X_3D_x = X_3D_inhom[0,:] # x coordinates of original 3D points\n",
    "X_3D_y = X_3D_inhom[1,:] # y coordinates of original 3D points\n",
    "X_3D_z = X_3D_inhom[2,:] # z coordinates of original 3D points\n",
    "\n",
    "### normalized\n",
    "X_3Dn_x = X_3D_normalized_inhom[0,:] # x coordinates of normalized 3D points\n",
    "X_3Dn_y = X_3D_normalized_inhom[1,:] # y coordinates of normalized 3D points\n",
    "X_3Dn_z = X_3D_normalized_inhom[2,:] # z coordinates of normalized 3D points\n",
    "\n",
    "# Plotting\n",
    "# Want to have two plots side by side? -> subplots\n",
    "\n",
    "## 2D\n",
    "fig = plt.figure() # generate a figure that may comprise subfigures / subplots\n",
    "a2D = fig.add_subplot(121) # 1 row; 2 columns; subplot 1\n",
    "a2D.plot(X_2D_x, X_2D_y, 'bx') # bx means blue cross\n",
    "a2D.plot(X_2Dn_x, X_2Dn_y, 'bo') # bo means blue circle\n",
    "\n",
    "## 3D\n",
    "a3D = fig.add_subplot(122, projection='3d') #1 row; 2 columns; subplot 2\n",
    "a3D.scatter(X_3D_x, X_3D_y, X_3D_z, 'b') # bluish\n",
    "a3D.scatter(X_3Dn_x, X_3Dn_y, X_3Dn_z, 'r') # reddish"
   ]
  },
  {
   "cell_type": "code",
   "execution_count": null,
   "metadata": {},
   "outputs": [],
   "source": []
  },
  {
   "cell_type": "code",
   "execution_count": null,
   "metadata": {},
   "outputs": [],
   "source": []
  }
 ],
 "metadata": {
  "kernelspec": {
   "display_name": "Python 3",
   "language": "python",
   "name": "python3"
  },
  "language_info": {
   "codemirror_mode": {
    "name": "ipython",
    "version": 3
   },
   "file_extension": ".py",
   "mimetype": "text/x-python",
   "name": "python",
   "nbconvert_exporter": "python",
   "pygments_lexer": "ipython3",
   "version": "3.7.4"
  }
 },
 "nbformat": 4,
 "nbformat_minor": 4
}
