{
 "cells": [
  {
   "cell_type": "markdown",
   "metadata": {},
   "source": [
    "# Synthetic Views\n",
    "This example shows how to generate a synthetic view with the help of homographies.\n",
    "You will see a house from side view and a house from front view.\n",
    "Please select $n$ point in both images (same order!). The minimum amount of points needed is $n = 4$ but it is very difficult to select exactly the corresponding points in both images. The impreciseness can be seen as noise. Therefore, it's better to build up an overdetermined system ($n > 4$) and to find a good homography approximation.\n",
    "\n",
    "If you select $n = 6$ you can achieve a pretty good virtual front view.\n",
    "Please try not to select 3 points being on a line."
   ]
  },
  {
   "cell_type": "code",
   "execution_count": 1,
   "metadata": {},
   "outputs": [
    {
     "name": "stdout",
     "output_type": "stream",
     "text": [
      "How many points correspondence do you want to use? Choose n:6\n",
      "Input of the first image:\n",
      "[[ 536.91527964  533.52883557  848.46813356 1527.45016848 1525.75694644\n",
      "   865.40035388]\n",
      " [ 580.20742817  847.73650925  852.81617535  856.20261941  294.05290472\n",
      "   483.69377233]]\n",
      "Input of the second image:\n",
      "[[ 720.91297043  722.86273522 1210.30393145 1668.49865591 1666.54889113\n",
      "  1184.95698925]\n",
      " [ 553.44024278  853.70401966  843.95519573  843.95519573  557.33977235\n",
      "   553.44024278]]\n"
     ]
    }
   ],
   "source": [
    "import cv2\n",
    "import matplotlib\n",
    "import matplotlib.pyplot as plt\n",
    "import matplotlib.image as mpimg\n",
    "import numpy as np\n",
    "\n",
    "%matplotlib tk \n",
    "# If Jupyter Notebook gives you errors, please try qt, wx, gtk, osx instead of tk.\n",
    "\n",
    "img0 = mpimg.imread('14_Chemnitz.jpg')\n",
    "img1 = mpimg.imread('15_Chemnitz.jpg')\n",
    "\n",
    "n = 0\n",
    "while n < 4:\n",
    "    n_str = input('How many points correspondence do you want to use? Choose n:')\n",
    "    n = int(n_str)\n",
    "    if n < 4:\n",
    "        print(\"Please choose n >= 4.\")\n",
    "\n",
    "# close old image windows\n",
    "#plt.close(\"all\")\n",
    "\n",
    "# select feature points in img0\n",
    "plt.figure()\n",
    "plt.imshow(img0)\n",
    "x_inhom       = np.array(plt.ginput(n));\n",
    "x_inhom = x_inhom.T\n",
    "\n",
    "# select feature points in img1\n",
    "plt.imshow(img1)\n",
    "x_prime_inhom = np.array(plt.ginput(n));\n",
    "x_prime_inhom = x_prime_inhom.T\n",
    "plt.close()\n",
    "\n",
    "# close new image windows again\n",
    "print(\"Input of the first image:\")\n",
    "print(x_inhom)\n",
    "print(\"Input of the second image:\")\n",
    "print(x_prime_inhom)\n"
   ]
  },
  {
   "cell_type": "markdown",
   "metadata": {},
   "source": [
    "Make points homogenous..."
   ]
  },
  {
   "cell_type": "code",
   "execution_count": 2,
   "metadata": {},
   "outputs": [],
   "source": [
    "x       = np.vstack([x_inhom      , np.ones((1, n), dtype=np.float)])\n",
    "x_prime = np.vstack([x_prime_inhom, np.ones((1, n), dtype=np.float)])"
   ]
  },
  {
   "cell_type": "markdown",
   "metadata": {},
   "source": [
    "Remember, the DLT linear equation system of the lecture:  \n",
    "$\\begin{pmatrix}\n",
    "    \\mathbf{0}^T & -w'_i\\mathbf{x}^T_i & y'_i\\mathbf{x}^T_i \\\\\n",
    "    w'_i\\mathbf{x}^T_i & \\mathbf{0}^T & -x'_i\\mathbf{x}^T_i \\\\\n",
    "\\end{pmatrix} \\cdot\n",
    "\\begin{pmatrix}\n",
    "    \\mathbf{h}_{\\text{r}1} \\\\ \\mathbf{h}_{\\text{r}2} \\\\ \\mathbf{h}_{\\text{r}3}\n",
    "\\end{pmatrix}\n",
    "= \\mathbf{0}$  \n",
    "  \n",
    "$ \\mathbf{A}_i \\cdot \\mathbf{h} = \\mathbf{0} $  \n",
    "  \n",
    "Whereas $\\mathbf{x}_i$ is the $i$-th point in the point array `x` and \n",
    "$\\mathbf{x}'_i = \\begin{pmatrix} x'_i \\\\ y'_i \\\\ w'_i \\end{pmatrix}$ is the projectively transformed $i$-th point in the point array `x_prime`.  \n",
    "$\\mathbf{h}_{\\text{r}i}$ is `H[i,:].T`, the transposed $i$-th row of the homography $\\mathbf{H}$.\n",
    "  \n",
    "Now, stack all $\\mathbf{A}_i$ for all 4 point correspondences together. Bring all odd rows to the first 4 rows and all even row s to the last 4 rows."
   ]
  },
  {
   "cell_type": "code",
   "execution_count": 3,
   "metadata": {},
   "outputs": [
    {
     "name": "stdout",
     "output_type": "stream",
     "text": [
      "(1, 6)\n",
      "shape of A: (12, 9)\n"
     ]
    }
   ],
   "source": [
    "# To avoid squeezing an 2D array with 1 row to a 1D array,\n",
    "# one can simply use the range i:i+1 (contains only i) instead of a\n",
    "# single index i.\n",
    "\n",
    "x_trans = x_prime[0:1,:]\n",
    "y_trans = x_prime[1:2,:]\n",
    "w_trans = x_prime[2:3,:]\n",
    "\n",
    "# Try\n",
    "#     x_trans = x_prime[0, :]\n",
    "# to see what happens with\n",
    "#     x_trans.shape\n",
    "\n",
    "print(x_trans.shape)\n",
    "\n",
    "row_1234_col_123 = np.zeros((n, 3), dtype=np.float)\n",
    "row_1234_col_456 = -w_trans.T * x.T\n",
    "row_1234_col_789 =  y_trans.T * x.T\n",
    "\n",
    "row_5678_col_123 = w_trans.T * x.T\n",
    "row_5678_col_456 = np.zeros((n, 3), dtype=np.float)\n",
    "row_5678_col_789 = -x_trans.T * x.T\n",
    "\n",
    "A_top    = np.hstack([row_1234_col_123, row_1234_col_456, row_1234_col_789])\n",
    "A_bottom = np.hstack([row_5678_col_123, row_5678_col_456, row_5678_col_789])\n",
    "A        = np.vstack([A_top, A_bottom])\n",
    "print(\"shape of A:\", A.shape)"
   ]
  },
  {
   "cell_type": "markdown",
   "metadata": {},
   "source": [
    "Since $\\mathbf{A} \\cdot \\mathbf{h} \\neq \\mathbf{0}$, we cannot simply take the right null space of $\\mathbf{A}$ but we can decompose $\\mathbf{A}$:  \n",
    "  \n",
    "$\\mathbf{A} = \\mathbf{U}\\mathbf{\\Sigma}\\mathbf{V}^T$  \n",
    "  \n",
    "Then, the *best* $\\mathbf{h}$ is the unit singular vector $\\mathbf{v}_{\\text{r}}$ belonging to the smallest singular value $\\mathbf{\\sigma}_r$."
   ]
  },
  {
   "cell_type": "code",
   "execution_count": 4,
   "metadata": {},
   "outputs": [
    {
     "name": "stdout",
     "output_type": "stream",
     "text": [
      "rank of DLT system matrix is: 9\n",
      "The reconstructed homography is:\n",
      "[[   10.72173838     0.90024569 -3742.35869118]\n",
      " [    3.59897239     4.38230685 -2473.11607966]\n",
      " [    0.00432073     0.00050105     1.        ]]\n"
     ]
    }
   ],
   "source": [
    "U, S, VT = np.linalg.svd(A)\n",
    "r = np.linalg.matrix_rank(A)\n",
    "\n",
    "print(\"rank of DLT system matrix is:\", r)\n",
    "h = VT[r-1, :] # subtract 1 because we start indexing with 0\n",
    "# VT[r-1, :] is the same as V[:, r-1], the r-th colum vector of V\n",
    "h = h / h[8]\n",
    "\n",
    "H_r = h.reshape((3, 3)) # from vector back to matrix\n",
    "H_r = H_r / H_r[-1, -1] # divide by last row and last collumn to normalize the homography. Now, H[3, 3] should be 1\n",
    "\n",
    "np.set_printoptions(suppress=True)\n",
    "print(\"The reconstructed homography is:\")\n",
    "print(H_r)"
   ]
  },
  {
   "cell_type": "markdown",
   "metadata": {},
   "source": [
    "Now, let's see if we have transferred the first house image into a front view image...\n",
    "Plotting is not important for the examination."
   ]
  },
  {
   "cell_type": "code",
   "execution_count": 7,
   "metadata": {},
   "outputs": [
    {
     "data": {
      "text/plain": [
       "True"
      ]
     },
     "execution_count": 7,
     "metadata": {},
     "output_type": "execute_result"
    }
   ],
   "source": [
    "scale_output_y = 1.3\n",
    "scale_output_x = 1.3\n",
    "out_width = int(img0.shape[1] * scale_output_x)\n",
    "out_height = int(img0.shape[0] * scale_output_y)\n",
    "warp_img = cv2.warpPerspective(img0, H_r, (out_width, out_height))\n",
    "\n",
    "# cv2 uses BGR color channel order -> convert our RGB image to BGR\n",
    "warp_img_bgr = np.concatenate((warp_img[:,:,2:3], warp_img[:,:,1:2], warp_img[:,:,0:1]), axis=2)\n",
    "\n",
    "cv2.imwrite(\"warp.jpg\", warp_img_bgr)\n",
    "#cv2.imwrite(\"warp.jpg\", warp_img)\n",
    "\n"
   ]
  },
  {
   "cell_type": "code",
   "execution_count": null,
   "metadata": {},
   "outputs": [],
   "source": []
  },
  {
   "cell_type": "code",
   "execution_count": null,
   "metadata": {},
   "outputs": [],
   "source": []
  },
  {
   "cell_type": "code",
   "execution_count": null,
   "metadata": {},
   "outputs": [],
   "source": []
  }
 ],
 "metadata": {
  "kernelspec": {
   "display_name": "Python 3",
   "language": "python",
   "name": "python3"
  },
  "language_info": {
   "codemirror_mode": {
    "name": "ipython",
    "version": 3
   },
   "file_extension": ".py",
   "mimetype": "text/x-python",
   "name": "python",
   "nbconvert_exporter": "python",
   "pygments_lexer": "ipython3",
   "version": "3.7.4"
  }
 },
 "nbformat": 4,
 "nbformat_minor": 4
}
