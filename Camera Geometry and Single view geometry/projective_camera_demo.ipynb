{
 "cells": [
  {
   "cell_type": "markdown",
   "metadata": {},
   "source": [
    "# Projective Camera Example\n"
   ]
  },
  {
   "cell_type": "markdown",
   "metadata": {},
   "source": [
    "This example shows how to design and apply a 3D geometrical image processing pipeline.\n",
    "Let's start with our 3D environment. It contains a house.\n",
    "\n",
    "## Setting up the 3D environment\n",
    "\n",
    "Our house will be stored into the variables X_inhom ($\\tilde{X}$, inhomogeneous representation) and X ($X$, homogeneous representation)."
   ]
  },
  {
   "cell_type": "code",
   "execution_count": 1,
   "metadata": {},
   "outputs": [
    {
     "name": "stdout",
     "output_type": "stream",
     "text": [
      "[[1.  1.  0. ]\n",
      " [2.  1.  0. ]\n",
      " [2.  2.  0. ]\n",
      " [1.  2.  0. ]\n",
      " [1.  1.  1. ]\n",
      " [2.  1.  1. ]\n",
      " [2.  2.  1. ]\n",
      " [1.  2.  1. ]\n",
      " [1.5 1.5 2.5]]\n"
     ]
    }
   ],
   "source": [
    "import numpy as np\n",
    "import matplotlib.pyplot as plt\n",
    "np.set_printoptions(precision=3, suppress=True)\n",
    "\n",
    "X_inhom = np.array([\n",
    "    [1, 1, 0],\n",
    "    [2, 1, 0],\n",
    "    [2, 2, 0],\n",
    "    [1, 2, 0],\n",
    "    [1, 1, 1],\n",
    "    [2, 1, 1],\n",
    "    [2, 2, 1],\n",
    "    [1, 2, 1],\n",
    "    [1.5, 1.5, 2.5]\n",
    "], dtype=np.float)\n",
    "print(X_inhom)"
   ]
  },
  {
   "cell_type": "code",
   "execution_count": 2,
   "metadata": {},
   "outputs": [
    {
     "name": "stdout",
     "output_type": "stream",
     "text": [
      "[[1.  2.  2.  1.  1.  2.  2.  1.  1.5]\n",
      " [1.  1.  2.  2.  1.  1.  2.  2.  1.5]\n",
      " [0.  0.  0.  0.  1.  1.  1.  1.  2.5]]\n",
      "Shape of X_inhom: (3, 9)\n"
     ]
    }
   ],
   "source": [
    "X_inhom = X_inhom.T # take the transpose\n",
    "print(X_inhom)\n",
    "print(\"Shape of X_inhom:\", X_inhom.shape)"
   ]
  },
  {
   "cell_type": "code",
   "execution_count": 3,
   "metadata": {},
   "outputs": [
    {
     "name": "stdout",
     "output_type": "stream",
     "text": [
      "X is:\n",
      "[[1.  2.  2.  1.  1.  2.  2.  1.  1.5]\n",
      " [1.  1.  2.  2.  1.  1.  2.  2.  1.5]\n",
      " [0.  0.  0.  0.  1.  1.  1.  1.  2.5]\n",
      " [1.  1.  1.  1.  1.  1.  1.  1.  1. ]]\n"
     ]
    }
   ],
   "source": [
    "ones_row_num_rows = 1\n",
    "ones_row_num_cols = X_inhom.shape[1]\n",
    "ones_row_shape = (ones_row_num_rows, ones_row_num_cols)\n",
    "ones_row = np.ones(ones_row_shape, dtype=np.float)\n",
    "\n",
    "X = np.concatenate([X_inhom, ones_row])\n",
    "print(\"X is:\")\n",
    "print(X)"
   ]
  },
  {
   "cell_type": "markdown",
   "metadata": {},
   "source": [
    "Let's define some connections (lines)..."
   ]
  },
  {
   "cell_type": "code",
   "execution_count": 8,
   "metadata": {},
   "outputs": [],
   "source": [
    "connections = np.array([\n",
    "    [0, 1],\n",
    "    [1, 2],\n",
    "    [2, 3],\n",
    "    [3, 0],\n",
    "    [4, 5],\n",
    "    [5, 6],\n",
    "    [6, 7],\n",
    "    [7, 4],\n",
    "    [0, 4],\n",
    "    [1, 5],\n",
    "    [2, 6],\n",
    "    [3, 7],\n",
    "    [4, 8],\n",
    "    [5, 8],\n",
    "    [6, 8],\n",
    "    [7, 8]\n",
    "])"
   ]
  },
  {
   "cell_type": "markdown",
   "metadata": {},
   "source": [
    "## Setting up the Projective Camera\n",
    "We model the camera EOS 90D with ajusted focal length to $18$ mm.\n",
    "For that, we need to define the intrinsic and extrinsic parameters."
   ]
  },
  {
   "cell_type": "markdown",
   "metadata": {},
   "source": [
    "### Intrinsic Parameters\n",
    "Well known parameters from manual:"
   ]
  },
  {
   "cell_type": "code",
   "execution_count": 9,
   "metadata": {},
   "outputs": [],
   "source": [
    "# resolution: width x height = 6940 x 4640\n",
    "w = 6940\n",
    "h = 4640\n",
    "\n",
    "# physical focal length\n",
    "f_phys = 0.018 # 18 mm\n",
    "\n",
    "# CMOS chip size\n",
    "w_chip = 22.3 * 1e-3 # 22.3 mm\n",
    "h_chip = 14.9 * 1e-3 # 14.9 mm"
   ]
  },
  {
   "cell_type": "markdown",
   "metadata": {},
   "source": [
    "Calculate the pixel densities."
   ]
  },
  {
   "cell_type": "code",
   "execution_count": 10,
   "metadata": {},
   "outputs": [
    {
     "name": "stdout",
     "output_type": "stream",
     "text": [
      "m_x is 311210.76233183854 1/m =  311.21076233183857 1/mm\n",
      "m_y is 311409.39597315434 1/m =  311.21076233183857 1/mm\n"
     ]
    }
   ],
   "source": [
    "m_x = w / w_chip # unti: \"pixel\"/m\n",
    "m_y = h / h_chip # unti: \"pixel\"/m\n",
    "print(\"m_x is\", m_x, \"1/m = \", m_x / 1000, \"1/mm\")\n",
    "print(\"m_y is\", m_y, \"1/m = \", m_x / 1000, \"1/mm\")"
   ]
  },
  {
   "cell_type": "markdown",
   "metadata": {},
   "source": [
    "Calculate the remaining parameters needed for the $K$ matrix."
   ]
  },
  {
   "cell_type": "code",
   "execution_count": 11,
   "metadata": {},
   "outputs": [
    {
     "name": "stdout",
     "output_type": "stream",
     "text": [
      "f_x is: 5601.793721973093\n",
      "f_y is: 5605.369127516778\n",
      "c_x is: 3470.5\n",
      "c_y is: 2320.5\n",
      "s   is: 0\n",
      "K is:\n",
      "[[5601.794    0.    3470.5  ]\n",
      " [   0.    5605.369 2320.5  ]\n",
      " [   0.       0.       1.   ]]\n"
     ]
    }
   ],
   "source": [
    "# focal length transplated to pixel space\n",
    "f_x = f_phys * m_x # unit: \"pixel\" (unitless)\n",
    "f_y = f_phys * m_y # unit: \"pixel\" (unitless)\n",
    "print(\"f_x is:\", f_x)\n",
    "print(\"f_y is:\", f_y)\n",
    "\n",
    "# image center (distortion center) assumed to be exacly in the middle of the image plane.\n",
    "c_x = (w + 1) / 2\n",
    "c_y = (h + 1) / 2\n",
    "print(\"c_x is:\", c_x)\n",
    "print(\"c_y is:\", c_y)\n",
    "\n",
    "# skew parameter assumed to be 0.\n",
    "s = 0\n",
    "print(\"s   is:\", s)\n",
    "\n",
    "# camera matrix K:\n",
    "K = np.array([\n",
    "    [f_x,   s, c_x],\n",
    "    [  0, f_y, c_y],\n",
    "    [  0,   0,   1]\n",
    "], dtype=np.float)\n",
    "print(\"K is:\")\n",
    "print(K)"
   ]
  },
  {
   "cell_type": "markdown",
   "metadata": {},
   "source": [
    "### Extrinsic Parameters"
   ]
  },
  {
   "cell_type": "markdown",
   "metadata": {},
   "source": [
    "In order to make a photograph from our hosue, we place our camera into the 3D scene.\n",
    "We need to define the position $C$ and the orientation / rotation $R$."
   ]
  },
  {
   "cell_type": "code",
   "execution_count": 12,
   "metadata": {},
   "outputs": [],
   "source": [
    "# position\n",
    "C = np.array([\n",
    "    [0, -10, 4]\n",
    "])\n",
    "C = C.T"
   ]
  },
  {
   "cell_type": "markdown",
   "metadata": {},
   "source": [
    "It is easier to set up a rotation matrix by defining its components.\n",
    "*One* way to rotate into a certain direction is to rotate sequentially around the x axis, then y axis and lastly the z axis.\n",
    "  \n",
    "$\\tilde{X'} = R_x \\cdot \\tilde{X}$  \n",
    "$\\tilde{X''} = R_y \\cdot \\tilde{X'}$  \n",
    "$\\tilde{X'''} = R_z \\cdot \\tilde{X''}$  \n",
    "  \n",
    "$\\tilde{X'''} = R_z \\cdot R_y \\cdot R_x \\cdot \\tilde{X}$  \n",
    "$\\tilde{X'''} = R_{xyz} \\cdot \\tilde{X}$  \n",
    "\n",
    "whereas...  \n",
    "  \n",
    "$R_x = \\begin{bmatrix}\n",
    "    1 & 0 & 0 \\\\\n",
    "    0 & \\cos(\\alpha) & -\\sin(\\alpha) \\\\\n",
    "    0 & \\sin(\\alpha) & \\cos(\\alpha) \\\\\n",
    "\\end{bmatrix}\n",
    "\\qquad\n",
    "R_y = \\begin{bmatrix}\n",
    "    \\cos(\\beta) & 0 & \\sin(\\beta) \\\\\n",
    "    0 & 1 & 0 \\\\\n",
    "    -\\sin(\\beta) & 0 & \\cos(\\beta) \\\\\n",
    "\\end{bmatrix}\n",
    "\\qquad\n",
    "R_z = \\begin{bmatrix}\n",
    "    \\cos(\\gamma) & -\\sin(\\gamma) & 0 \\\\\n",
    "    \\sin(\\gamma) & \\cos(\\gamma) & 0 \\\\\n",
    "    0 & 0 & 1 \\\\\n",
    "\\end{bmatrix}\n",
    "$"
   ]
  },
  {
   "cell_type": "code",
   "execution_count": 13,
   "metadata": {},
   "outputs": [
    {
     "name": "stdout",
     "output_type": "stream",
     "text": [
      "R is:\n",
      "[[ 0.985 -0.174  0.   ]\n",
      " [ 0.     0.     1.   ]\n",
      " [-0.174 -0.985  0.   ]]\n"
     ]
    }
   ],
   "source": [
    "\n",
    "# orientation / rotation\n",
    "alpha_degrees = -90 # first:  rotate about alpha degrees around the camera's x-axis\n",
    "beta_degrees  =  10 # second: rotate about beta  degrees around the camera's y-axis\n",
    "gamma_degrees =   0 # third:  rotate about gamma degrees around the camera's z-axis\n",
    "\n",
    "# into radians...\n",
    "alpha = alpha_degrees * np.pi / 180\n",
    "beta  = beta_degrees  * np.pi / 180\n",
    "gamma = gamma_degrees * np.pi / 180\n",
    "\n",
    "# prepare sine and cosine values\n",
    "ca = np.cos(alpha)\n",
    "sa = np.sin(alpha)\n",
    "cb = np.cos(beta)\n",
    "sb = np.sin(beta)\n",
    "cg = np.cos(gamma)\n",
    "sg = np.sin(gamma)\n",
    "\n",
    "# rotation about x axis\n",
    "R_x = np.array([\n",
    "    [1,  0,   0],\n",
    "    [0, ca, -sa],\n",
    "    [0, sa,  ca],\n",
    "], dtype=np.float)\n",
    "\n",
    "# rotation about y axis\n",
    "R_y = np.array([\n",
    "    [ cb, 0, sb],\n",
    "    [  0, 1,  0],\n",
    "    [-sb, 0, cb]    \n",
    "], dtype=np.float)\n",
    "\n",
    "# rotation about z axis\n",
    "R_z = np.array([\n",
    "    [cg, -sg, 0],\n",
    "    [sg,  cg, 0],\n",
    "    [ 0,   0, 1]    \n",
    "], dtype=np.float)\n",
    "\n",
    "# compose R_xyz\n",
    "R = R_z.dot(R_y.dot(R_x))\n",
    "\n",
    "print(\"R is:\")\n",
    "print(R)\n"
   ]
  },
  {
   "cell_type": "markdown",
   "metadata": {},
   "source": [
    "### Compose the camera projection matrix"
   ]
  },
  {
   "cell_type": "markdown",
   "metadata": {},
   "source": [
    "Now we can compose the camera projection matrix $P$.  \n",
    "Remeber:  \n",
    "$P = K \\cdot R \\cdot \\begin{bmatrix}I & -C\\end{bmatrix}_{3 \\times 4}$\n",
    "  \n",
    "This can be rewritten to:  \n",
    "$P = \\begin{bmatrix}KR & -KRC\\end{bmatrix}_{3 \\times 4}$  \n",
    "$P = \\begin{bmatrix}M & -MC\\end{bmatrix}_{3 \\times 4}$  \n"
   ]
  },
  {
   "cell_type": "code",
   "execution_count": 14,
   "metadata": {},
   "outputs": [
    {
     "name": "stdout",
     "output_type": "stream",
     "text": [
      "P is: \n",
      "[[  4914.044  -4390.517      0.    -43905.166]\n",
      " [  -402.951  -2285.246   5605.369 -45273.94 ]\n",
      " [    -0.174     -0.985      0.        -9.848]]\n"
     ]
    }
   ],
   "source": [
    "M = K.dot(R)\n",
    "MC = M.dot(C)\n",
    "\n",
    "P = np.concatenate([M, -MC], axis=1)\n",
    "# axis 1 means concatenate in 2nd dim (horizontaly)\n",
    "# axis 0 would mean concatenate in 1st dim (vertically)\n",
    "\n",
    "print(\"P is: \")\n",
    "print(P)"
   ]
  },
  {
   "cell_type": "markdown",
   "metadata": {},
   "source": [
    "# Making the photograph"
   ]
  },
  {
   "cell_type": "markdown",
   "metadata": {},
   "source": [
    "We shoot a photograph by applying the geometrical imaging processing pipeline."
   ]
  },
  {
   "cell_type": "code",
   "execution_count": 15,
   "metadata": {},
   "outputs": [
    {
     "name": "stdout",
     "output_type": "stream",
     "text": [
      "X_img is: [[-43381.638 -38467.595 -42858.111 -47772.155 -43381.638 -38467.595\n",
      "  -42858.111 -47772.155 -43119.875]\n",
      " [-47962.137 -48365.088 -50650.334 -50247.384 -42356.768 -42759.719\n",
      "  -45044.965 -44642.015 -35292.813]\n",
      " [   -11.007    -11.18     -12.165    -11.991    -11.007    -11.18\n",
      "     -12.165    -11.991    -11.586]]\n"
     ]
    }
   ],
   "source": [
    "X_img = P.dot(X)\n",
    "print(\"X_img is:\", X_img)"
   ]
  },
  {
   "cell_type": "markdown",
   "metadata": {},
   "source": [
    "Let's make the image plane visible.  \n",
    "**BTW: You do not have to plot in the examination.**"
   ]
  },
  {
   "cell_type": "code",
   "execution_count": 16,
   "metadata": {},
   "outputs": [],
   "source": [
    "X_img_inhom = X_img[:2, :] / X_img[2, :]"
   ]
  },
  {
   "cell_type": "code",
   "execution_count": 17,
   "metadata": {},
   "outputs": [
    {
     "data": {
      "image/png": "[encoded data removed]",
      "text/plain": [
       "<Figure size 432x288 with 1 Axes>"
      ]
     },
     "metadata": {
      "needs_background": "light"
     },
     "output_type": "display_data"
    }
   ],
   "source": [
    "# generate new figure\n",
    "fig, ax = plt.subplots()\n",
    "\n",
    "# draw edges on canvas\n",
    "ax.plot(X_img_inhom[0, :], X_img_inhom[1, :], 'bo')\n",
    "\n",
    "# draw line by line\n",
    "num_connections = connections.shape[0]\n",
    "for i in range(num_connections):\n",
    "    start_point_idx = connections[i, 0]\n",
    "    start_x = X_img_inhom[0, start_point_idx]\n",
    "    start_y = X_img_inhom[1, start_point_idx]\n",
    "    \n",
    "    end_point_idx = connections[i, 1]\n",
    "    end_x = X_img_inhom[0, end_point_idx]\n",
    "    end_y = X_img_inhom[1, end_point_idx]\n",
    "    \n",
    "    ax.plot([start_x, end_x], [start_y, end_y])\n",
    "\n",
    "\n",
    "# invert matplotlib's y axis (it has to point downwards)\n",
    "ax.invert_yaxis()\n",
    "\n",
    "# axis labeling\n",
    "ax.set(xlabel='X axis', ylabel='Y axis',\n",
    "       title='My beautiful house')\n",
    "\n",
    "# misc\n",
    "ax.grid()\n",
    "\n",
    "# show the plot\n",
    "plt.show()"
   ]
  }
 ],
 "metadata": {
  "kernelspec": {
   "display_name": "Python 3",
   "language": "python",
   "name": "python3"
  },
  "language_info": {
   "codemirror_mode": {
    "name": "ipython",
    "version": 3
   },
   "file_extension": ".py",
   "mimetype": "text/x-python",
   "name": "python",
   "nbconvert_exporter": "python",
   "pygments_lexer": "ipython3",
   "version": "3.7.4"
  }
 },
 "nbformat": 4,
 "nbformat_minor": 4
}
